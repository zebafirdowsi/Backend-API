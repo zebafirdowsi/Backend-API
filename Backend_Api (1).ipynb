{
  "nbformat": 4,
  "nbformat_minor": 0,
  "metadata": {
    "colab": {
      "provenance": []
    },
    "kernelspec": {
      "name": "python3",
      "display_name": "Python 3"
    },
    "language_info": {
      "name": "python"
    }
  },
  "cells": [
    {
      "cell_type": "code",
      "source": [
        "!pip install fastapi uvicorn pyngrok nest_asyncio"
      ],
      "metadata": {
        "colab": {
          "base_uri": "https://localhost:8080/"
        },
        "id": "hBJInWFOdamv",
        "outputId": "d565acb9-1826-4b06-f4cc-c35ab975e28d"
      },
      "execution_count": null,
      "outputs": [
        {
          "output_type": "stream",
          "name": "stdout",
          "text": [
            "Collecting fastapi\n",
            "  Downloading fastapi-0.115.12-py3-none-any.whl.metadata (27 kB)\n",
            "Collecting uvicorn\n",
            "  Downloading uvicorn-0.34.2-py3-none-any.whl.metadata (6.5 kB)\n",
            "Collecting pyngrok\n",
            "  Downloading pyngrok-7.2.8-py3-none-any.whl.metadata (10 kB)\n",
            "Requirement already satisfied: nest_asyncio in /usr/local/lib/python3.11/dist-packages (1.6.0)\n",
            "Collecting starlette<0.47.0,>=0.40.0 (from fastapi)\n",
            "  Downloading starlette-0.46.2-py3-none-any.whl.metadata (6.2 kB)\n",
            "Requirement already satisfied: pydantic!=1.8,!=1.8.1,!=2.0.0,!=2.0.1,!=2.1.0,<3.0.0,>=1.7.4 in /usr/local/lib/python3.11/dist-packages (from fastapi) (2.11.4)\n",
            "Requirement already satisfied: typing-extensions>=4.8.0 in /usr/local/lib/python3.11/dist-packages (from fastapi) (4.13.2)\n",
            "Requirement already satisfied: click>=7.0 in /usr/local/lib/python3.11/dist-packages (from uvicorn) (8.1.8)\n",
            "Requirement already satisfied: h11>=0.8 in /usr/local/lib/python3.11/dist-packages (from uvicorn) (0.16.0)\n",
            "Requirement already satisfied: PyYAML>=5.1 in /usr/local/lib/python3.11/dist-packages (from pyngrok) (6.0.2)\n",
            "Requirement already satisfied: annotated-types>=0.6.0 in /usr/local/lib/python3.11/dist-packages (from pydantic!=1.8,!=1.8.1,!=2.0.0,!=2.0.1,!=2.1.0,<3.0.0,>=1.7.4->fastapi) (0.7.0)\n",
            "Requirement already satisfied: pydantic-core==2.33.2 in /usr/local/lib/python3.11/dist-packages (from pydantic!=1.8,!=1.8.1,!=2.0.0,!=2.0.1,!=2.1.0,<3.0.0,>=1.7.4->fastapi) (2.33.2)\n",
            "Requirement already satisfied: typing-inspection>=0.4.0 in /usr/local/lib/python3.11/dist-packages (from pydantic!=1.8,!=1.8.1,!=2.0.0,!=2.0.1,!=2.1.0,<3.0.0,>=1.7.4->fastapi) (0.4.0)\n",
            "Requirement already satisfied: anyio<5,>=3.6.2 in /usr/local/lib/python3.11/dist-packages (from starlette<0.47.0,>=0.40.0->fastapi) (4.9.0)\n",
            "Requirement already satisfied: idna>=2.8 in /usr/local/lib/python3.11/dist-packages (from anyio<5,>=3.6.2->starlette<0.47.0,>=0.40.0->fastapi) (3.10)\n",
            "Requirement already satisfied: sniffio>=1.1 in /usr/local/lib/python3.11/dist-packages (from anyio<5,>=3.6.2->starlette<0.47.0,>=0.40.0->fastapi) (1.3.1)\n",
            "Downloading fastapi-0.115.12-py3-none-any.whl (95 kB)\n",
            "\u001b[2K   \u001b[90m━━━━━━━━━━━━━━━━━━━━━━━━━━━━━━━━━━━━━━━━\u001b[0m \u001b[32m95.2/95.2 kB\u001b[0m \u001b[31m4.3 MB/s\u001b[0m eta \u001b[36m0:00:00\u001b[0m\n",
            "\u001b[?25hDownloading uvicorn-0.34.2-py3-none-any.whl (62 kB)\n",
            "\u001b[2K   \u001b[90m━━━━━━━━━━━━━━━━━━━━━━━━━━━━━━━━━━━━━━━━\u001b[0m \u001b[32m62.5/62.5 kB\u001b[0m \u001b[31m5.1 MB/s\u001b[0m eta \u001b[36m0:00:00\u001b[0m\n",
            "\u001b[?25hDownloading pyngrok-7.2.8-py3-none-any.whl (25 kB)\n",
            "Downloading starlette-0.46.2-py3-none-any.whl (72 kB)\n",
            "\u001b[2K   \u001b[90m━━━━━━━━━━━━━━━━━━━━━━━━━━━━━━━━━━━━━━━━\u001b[0m \u001b[32m72.0/72.0 kB\u001b[0m \u001b[31m5.1 MB/s\u001b[0m eta \u001b[36m0:00:00\u001b[0m\n",
            "\u001b[?25hInstalling collected packages: uvicorn, pyngrok, starlette, fastapi\n",
            "Successfully installed fastapi-0.115.12 pyngrok-7.2.8 starlette-0.46.2 uvicorn-0.34.2\n"
          ]
        }
      ]
    },
    {
      "cell_type": "code",
      "execution_count": null,
      "metadata": {
        "colab": {
          "base_uri": "https://localhost:8080/"
        },
        "id": "bnLWpPG2dGp1",
        "outputId": "e7c3cb4b-8abb-42ba-d915-f66b7b64bd77"
      },
      "outputs": [
        {
          "output_type": "stream",
          "name": "stdout",
          "text": []
        }
      ],
      "source": [
        "from pyngrok import ngrok\n",
        "\n",
        "# Replace with your actual token\n",
        "ngrok.set_auth_token(\"2x21WASjly9m59LrRHFQKnVsCNH_8641niycL8rbRnHMs6MSH\")"
      ]
    },
    {
      "cell_type": "code",
      "source": [
        "from fastapi import FastAPI, HTTPException\n",
        "from pydantic import BaseModel\n",
        "import nest_asyncio\n",
        "import uvicorn\n",
        "\n",
        "app = FastAPI()\n",
        "\n",
        "class QuestionInput(BaseModel):\n",
        "    question: str\n",
        "\n",
        "@app.post(\"/classify-question\")\n",
        "def classify(input_data: QuestionInput):\n",
        "    question = input_data.question.strip().lower()\n",
        "\n",
        "    if not question:\n",
        "        raise HTTPException(status_code=400, detail=\"Empty question.\")\n",
        "\n",
        "    # Rule-based keywords\n",
        "    topics = {\n",
        "        \"Math\": [\"theorem\", \"algebra\", \"geometry\", \"triangle\"],\n",
        "        \"Science\": [\"atom\", \"gravity\", \"photosynthesis\", \"chemical\"],\n",
        "        \"English\": [\"noun\", \"verb\", \"poem\", \"grammar\"]\n",
        "    }\n",
        "\n",
        "    scores = {topic: sum(1 for kw in kws if kw in question) for topic, kws in topics.items()}\n",
        "    best_topic = max(scores, key=scores.get)\n",
        "    total = sum(scores.values())\n",
        "    confidence = round(scores[best_topic] / total, 2) if total > 0 else 0.0\n",
        "\n",
        "    result = {\n",
        "        \"topic\": best_topic if confidence > 0 else \"Unknown\",\n",
        "        \"confidence\": confidence\n",
        "    }\n",
        "    return result"
      ],
      "metadata": {
        "id": "Py4njF89kMcf"
      },
      "execution_count": null,
      "outputs": []
    },
    {
      "cell_type": "code",
      "source": [
        "# Run only once to patch asyncio event loop\n",
        "nest_asyncio.apply()\n",
        "\n",
        "# Start FastAPI with Uvicorn\n",
        "from pyngrok import ngrok\n",
        "\n",
        "# Create a tunnel to the uvicorn port\n",
        "public_url = ngrok.connect(8000)\n",
        "print(\"Public URL:\", public_url)\n",
        "\n",
        "# Start the server\n",
        "uvicorn.run(app, host=\"0.0.0.0\", port=8000)\n"
      ],
      "metadata": {
        "colab": {
          "base_uri": "https://localhost:8080/"
        },
        "id": "jz7mKXFwkgo4",
        "outputId": "79ba42e0-c810-464f-bd42-c8c398628ee0"
      },
      "execution_count": null,
      "outputs": [
        {
          "metadata": {
            "tags": null
          },
          "name": "stdout",
          "output_type": "stream",
          "text": [
            "Public URL: NgrokTunnel: \"https://2831-104-196-61-22.ngrok-free.app\" -> \"http://localhost:8000\"\n"
          ]
        },
        {
          "metadata": {
            "tags": null
          },
          "name": "stderr",
          "output_type": "stream",
          "text": [
            "INFO:     Started server process [220]\n",
            "INFO:     Waiting for application startup.\n",
            "INFO:     Application startup complete.\n",
            "INFO:     Uvicorn running on http://0.0.0.0:8000 (Press CTRL+C to quit)\n"
          ]
        },
        {
          "metadata": {
            "tags": null
          },
          "name": "stdout",
          "output_type": "stream",
          "text": [
            "INFO:     2406:b400:35:cdc5:c58b:5041:8fbe:a2cc:0 - \"GET / HTTP/1.1\" 404 Not Found\n",
            "INFO:     2406:b400:35:cdc5:c58b:5041:8fbe:a2cc:0 - \"GET /favicon.ico HTTP/1.1\" 404 Not Found\n",
            "INFO:     2406:b400:35:cdc5:c58b:5041:8fbe:a2cc:0 - \"GET /docs HTTP/1.1\" 200 OK\n",
            "INFO:     2406:b400:35:cdc5:c58b:5041:8fbe:a2cc:0 - \"GET /openapi.json HTTP/1.1\" 200 OK\n",
            "INFO:     2406:b400:35:cdc5:c58b:5041:8fbe:a2cc:0 - \"POST /classify-question HTTP/1.1\" 200 OK\n"
          ]
        }
      ]
    },
    {
      "cell_type": "code",
      "source": [
        "from fastapi import FastAPI, HTTPException, Request\n",
        "from pydantic import BaseModel\n",
        "from typing import Literal\n",
        "import json\n",
        "import os\n",
        "\n",
        "app = FastAPI()\n",
        "\n",
        "# Input validation\n",
        "class QuestionInput(BaseModel):\n",
        "    question: str\n",
        "\n",
        "# Classification logic (very simple rule-based example)\n",
        "def classify_question(question: str):\n",
        "    question_lower = question.lower()\n",
        "    if any(word in question_lower for word in [\"math\", \"pythagorean\", \"algebra\", \"geometry\", \"calculus\", \"equation\"]):\n",
        "        return {\"topic\": \"Math\", \"confidence\": 1.0}\n",
        "    elif any(word in question_lower for word in [\"biology\", \"physics\", \"gravity\", \"science\", \"photosynthesis\", \"experiment\"]):\n",
        "        return {\"topic\": \"Science\", \"confidence\": 1.0}\n",
        "    elif any(word in question_lower for word in [\"noun\", \"verb\", \"english\", \"grammar\", \"poem\", \"essay\", \"literature\"]):\n",
        "        return {\"topic\": \"English\", \"confidence\": 1.0}\n",
        "    else:\n",
        "        return {\"topic\": \"Unknown\", \"confidence\": 0.0}\n",
        "\n",
        "# File path\n",
        "LOG_FILE = \"questions.json\"\n",
        "\n",
        "# Save question and result to file\n",
        "def save_to_file(entry):\n",
        "    if os.path.exists(LOG_FILE):\n",
        "        with open(LOG_FILE, \"r\") as f:\n",
        "            data = json.load(f)\n",
        "    else:\n",
        "        data = []\n",
        "\n",
        "    data.append(entry)\n",
        "\n",
        "    with open(LOG_FILE, \"w\") as f:\n",
        "        json.dump(data, f, indent=4)\n",
        "\n",
        "# POST endpoint: classify a question\n",
        "@app.post(\"/classify-question\")\n",
        "def classify(input: QuestionInput):\n",
        "    if not input.question.strip():\n",
        "        raise HTTPException(status_code=400, detail=\"Question cannot be empty.\")\n",
        "\n",
        "    result = classify_question(input.question)\n",
        "    result_data = {\n",
        "        \"question\": input.question,\n",
        "        \"topic\": result[\"topic\"],\n",
        "        \"confidence\": result[\"confidence\"]\n",
        "    }\n",
        "\n",
        "    save_to_file(result_data)\n",
        "    return {\"topic\": result[\"topic\"], \"confidence\": result[\"confidence\"]}\n",
        "\n",
        "# GET endpoint: return past classified questions\n",
        "@app.get(\"/questions\")\n",
        "def get_logged_questions():\n",
        "    if os.path.exists(LOG_FILE):\n",
        "        with open(LOG_FILE, \"r\") as f:\n",
        "            return json.load(f)\n",
        "    else:\n",
        "        return []\n"
      ],
      "metadata": {
        "id": "KqsJ6Ds1kriB"
      },
      "execution_count": null,
      "outputs": []
    },
    {
      "cell_type": "code",
      "source": [],
      "metadata": {
        "id": "c8iG4W3tn76D"
      },
      "execution_count": null,
      "outputs": []
    }
  ]
}